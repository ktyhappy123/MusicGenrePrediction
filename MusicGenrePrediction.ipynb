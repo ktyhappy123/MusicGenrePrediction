{
 "cells": [
  {
   "cell_type": "code",
   "execution_count": 48,
   "id": "1631bc9b",
   "metadata": {},
   "outputs": [],
   "source": [
    "import numpy as np\n",
    "import pandas as pd\n",
    "import matplotlib.pyplot as plt\n",
    "import seaborn as sns"
   ]
  },
  {
   "cell_type": "markdown",
   "id": "88a58568",
   "metadata": {},
   "source": [
    "After building a model that predicts whether an email is a span or ham based on the words in the email, I wonder if it is possible to predict genre of music based on words in lyrics. My initial thoughts on the prediction are while it may be possible to predict distinguishable genres such as hiphop vs blues that do not have common characteristics in music, it would not be easy to predict between hiphop vs pop since many words are used in hiphop and pop. In this project, I am going to build two model: a model that predicts if a song is hiphop or blues and a model that predicts if a song is hiphop or pop. "
   ]
  },
  {
   "cell_type": "markdown",
   "id": "8ab4b8b5",
   "metadata": {},
   "source": [
    "# Importing Data Set"
   ]
  },
  {
   "cell_type": "markdown",
   "id": "1ff0ee0c",
   "metadata": {},
   "source": [
    "Narrowing down to musics that are hip hop and blues."
   ]
  },
  {
   "cell_type": "code",
   "execution_count": 49,
   "id": "b0c40263",
   "metadata": {},
   "outputs": [],
   "source": [
    "music = pd.read_csv('musicdata.csv')\n",
    "genre = ['hiphop', 'blues']\n",
    "music_first = music[(music['genre'] == 'hip hop') | (music['genre'] == 'blues')]"
   ]
  },
  {
   "cell_type": "code",
   "execution_count": 50,
   "id": "ff121327",
   "metadata": {},
   "outputs": [
    {
     "data": {
      "text/html": [
       "<div>\n",
       "<style scoped>\n",
       "    .dataframe tbody tr th:only-of-type {\n",
       "        vertical-align: middle;\n",
       "    }\n",
       "\n",
       "    .dataframe tbody tr th {\n",
       "        vertical-align: top;\n",
       "    }\n",
       "\n",
       "    .dataframe thead th {\n",
       "        text-align: right;\n",
       "    }\n",
       "</style>\n",
       "<table border=\"1\" class=\"dataframe\">\n",
       "  <thead>\n",
       "    <tr style=\"text-align: right;\">\n",
       "      <th></th>\n",
       "      <th>Unnamed: 0</th>\n",
       "      <th>artist_name</th>\n",
       "      <th>track_name</th>\n",
       "      <th>release_date</th>\n",
       "      <th>genre</th>\n",
       "      <th>lyrics</th>\n",
       "    </tr>\n",
       "  </thead>\n",
       "  <tbody>\n",
       "    <tr>\n",
       "      <th>333</th>\n",
       "      <td>53802</td>\n",
       "      <td>thee oh sees</td>\n",
       "      <td>overthrown</td>\n",
       "      <td>2018</td>\n",
       "      <td>blues</td>\n",
       "      <td>murder slay suck disease point flee bleed fuck...</td>\n",
       "    </tr>\n",
       "    <tr>\n",
       "      <th>334</th>\n",
       "      <td>53803</td>\n",
       "      <td>buddy guy</td>\n",
       "      <td>you did the crime</td>\n",
       "      <td>2018</td>\n",
       "      <td>blues</td>\n",
       "      <td>lie cheat girl excuse criminal behavior lose c...</td>\n",
       "    </tr>\n",
       "    <tr>\n",
       "      <th>335</th>\n",
       "      <td>53804</td>\n",
       "      <td>the wood brothers</td>\n",
       "      <td>one drop of truth</td>\n",
       "      <td>2018</td>\n",
       "      <td>blues</td>\n",
       "      <td>lonely lock cell bunch nice people know cold c...</td>\n",
       "    </tr>\n",
       "    <tr>\n",
       "      <th>336</th>\n",
       "      <td>53805</td>\n",
       "      <td>black rebel motorcycle club</td>\n",
       "      <td>echo</td>\n",
       "      <td>2018</td>\n",
       "      <td>blues</td>\n",
       "      <td>maybe little drown desire time smile heavens s...</td>\n",
       "    </tr>\n",
       "    <tr>\n",
       "      <th>337</th>\n",
       "      <td>53806</td>\n",
       "      <td>ty segall</td>\n",
       "      <td>body behavior</td>\n",
       "      <td>2018</td>\n",
       "      <td>blues</td>\n",
       "      <td>pick sewer train future come inside inside dee...</td>\n",
       "    </tr>\n",
       "  </tbody>\n",
       "</table>\n",
       "</div>"
      ],
      "text/plain": [
       "     Unnamed: 0                  artist_name         track_name  release_date  \\\n",
       "333       53802                 thee oh sees         overthrown          2018   \n",
       "334       53803                    buddy guy  you did the crime          2018   \n",
       "335       53804            the wood brothers  one drop of truth          2018   \n",
       "336       53805  black rebel motorcycle club               echo          2018   \n",
       "337       53806                    ty segall      body behavior          2018   \n",
       "\n",
       "     genre                                             lyrics  \n",
       "333  blues  murder slay suck disease point flee bleed fuck...  \n",
       "334  blues  lie cheat girl excuse criminal behavior lose c...  \n",
       "335  blues  lonely lock cell bunch nice people know cold c...  \n",
       "336  blues  maybe little drown desire time smile heavens s...  \n",
       "337  blues  pick sewer train future come inside inside dee...  "
      ]
     },
     "execution_count": 50,
     "metadata": {},
     "output_type": "execute_result"
    }
   ],
   "source": [
    "music_first.head(5)"
   ]
  },
  {
   "cell_type": "code",
   "execution_count": 51,
   "id": "12defdaf",
   "metadata": {},
   "outputs": [
    {
     "data": {
      "text/plain": [
       "(428, 6)"
      ]
     },
     "execution_count": 51,
     "metadata": {},
     "output_type": "execute_result"
    }
   ],
   "source": [
    "music_first.shape"
   ]
  },
  {
   "cell_type": "code",
   "execution_count": 52,
   "id": "6b1f188d",
   "metadata": {},
   "outputs": [
    {
     "data": {
      "text/plain": [
       "hip hop    224\n",
       "blues      204\n",
       "Name: genre, dtype: int64"
      ]
     },
     "execution_count": 52,
     "metadata": {},
     "output_type": "execute_result"
    }
   ],
   "source": [
    "music_first['genre'].value_counts()"
   ]
  },
  {
   "cell_type": "code",
   "execution_count": 53,
   "id": "27888a51",
   "metadata": {
    "scrolled": true
   },
   "outputs": [
    {
     "data": {
      "text/plain": [
       "Unnamed: 0      0\n",
       "artist_name     0\n",
       "track_name      0\n",
       "release_date    0\n",
       "genre           0\n",
       "lyrics          0\n",
       "dtype: int64"
      ]
     },
     "execution_count": 53,
     "metadata": {},
     "output_type": "execute_result"
    }
   ],
   "source": [
    "music_first.isnull().sum()"
   ]
  },
  {
   "cell_type": "markdown",
   "id": "ed519a63",
   "metadata": {},
   "source": [
    "There is no missing values in the data. <br> Now, spliting data into train and test"
   ]
  },
  {
   "cell_type": "code",
   "execution_count": 54,
   "id": "775ea292",
   "metadata": {},
   "outputs": [],
   "source": [
    "from sklearn.model_selection import train_test_split\n",
    "\n",
    "train, test = train_test_split(music_first, test_size = 0.15)"
   ]
  },
  {
   "cell_type": "code",
   "execution_count": 55,
   "id": "286095d0",
   "metadata": {},
   "outputs": [
    {
     "data": {
      "text/plain": [
       "hip hop    196\n",
       "blues      167\n",
       "Name: genre, dtype: int64"
      ]
     },
     "execution_count": 55,
     "metadata": {},
     "output_type": "execute_result"
    }
   ],
   "source": [
    "train['genre'].value_counts()"
   ]
  },
  {
   "cell_type": "code",
   "execution_count": 56,
   "id": "2c93966f",
   "metadata": {},
   "outputs": [
    {
     "data": {
      "text/html": [
       "<div>\n",
       "<style scoped>\n",
       "    .dataframe tbody tr th:only-of-type {\n",
       "        vertical-align: middle;\n",
       "    }\n",
       "\n",
       "    .dataframe tbody tr th {\n",
       "        vertical-align: top;\n",
       "    }\n",
       "\n",
       "    .dataframe thead th {\n",
       "        text-align: right;\n",
       "    }\n",
       "</style>\n",
       "<table border=\"1\" class=\"dataframe\">\n",
       "  <thead>\n",
       "    <tr style=\"text-align: right;\">\n",
       "      <th></th>\n",
       "      <th>Unnamed: 0</th>\n",
       "      <th>artist_name</th>\n",
       "      <th>track_name</th>\n",
       "      <th>release_date</th>\n",
       "      <th>genre</th>\n",
       "      <th>lyrics</th>\n",
       "    </tr>\n",
       "  </thead>\n",
       "  <tbody>\n",
       "    <tr>\n",
       "      <th>527</th>\n",
       "      <td>54280</td>\n",
       "      <td>santana</td>\n",
       "      <td>blue skies</td>\n",
       "      <td>2019</td>\n",
       "      <td>blues</td>\n",
       "      <td>lose feet grind color burn loneliness ocean aw...</td>\n",
       "    </tr>\n",
       "    <tr>\n",
       "      <th>471</th>\n",
       "      <td>54135</td>\n",
       "      <td>robert randolph &amp; the family band</td>\n",
       "      <td>have mercy</td>\n",
       "      <td>2019</td>\n",
       "      <td>blues</td>\n",
       "      <td>want look shed skin afford shoot watch feel st...</td>\n",
       "    </tr>\n",
       "    <tr>\n",
       "      <th>1170</th>\n",
       "      <td>82430</td>\n",
       "      <td>t-pain</td>\n",
       "      <td>look at her go (feat. chris brown)</td>\n",
       "      <td>2019</td>\n",
       "      <td>hip hop</td>\n",
       "      <td>boom come baby boom come baby boom come baby c...</td>\n",
       "    </tr>\n",
       "    <tr>\n",
       "      <th>1135</th>\n",
       "      <td>82383</td>\n",
       "      <td>lil' flip</td>\n",
       "      <td>hop out (feat. senistar)</td>\n",
       "      <td>2019</td>\n",
       "      <td>hip hop</td>\n",
       "      <td>bruh imagine maxxkii slump bullets melt intact...</td>\n",
       "    </tr>\n",
       "    <tr>\n",
       "      <th>1105</th>\n",
       "      <td>82345</td>\n",
       "      <td>gang starr</td>\n",
       "      <td>jazz thing</td>\n",
       "      <td>2019</td>\n",
       "      <td>hip hop</td>\n",
       "      <td>feat branford marsalis instrumentally like pla...</td>\n",
       "    </tr>\n",
       "  </tbody>\n",
       "</table>\n",
       "</div>"
      ],
      "text/plain": [
       "      Unnamed: 0                        artist_name  \\\n",
       "527        54280                            santana   \n",
       "471        54135  robert randolph & the family band   \n",
       "1170       82430                             t-pain   \n",
       "1135       82383                          lil' flip   \n",
       "1105       82345                         gang starr   \n",
       "\n",
       "                              track_name  release_date    genre  \\\n",
       "527                           blue skies          2019    blues   \n",
       "471                           have mercy          2019    blues   \n",
       "1170  look at her go (feat. chris brown)          2019  hip hop   \n",
       "1135            hop out (feat. senistar)          2019  hip hop   \n",
       "1105                          jazz thing          2019  hip hop   \n",
       "\n",
       "                                                 lyrics  \n",
       "527   lose feet grind color burn loneliness ocean aw...  \n",
       "471   want look shed skin afford shoot watch feel st...  \n",
       "1170  boom come baby boom come baby boom come baby c...  \n",
       "1135  bruh imagine maxxkii slump bullets melt intact...  \n",
       "1105  feat branford marsalis instrumentally like pla...  "
      ]
     },
     "execution_count": 56,
     "metadata": {},
     "output_type": "execute_result"
    }
   ],
   "source": [
    "train.head(5)"
   ]
  },
  {
   "cell_type": "markdown",
   "id": "5e8c4ea2",
   "metadata": {},
   "source": [
    "One example of lyrics"
   ]
  },
  {
   "cell_type": "code",
   "execution_count": 57,
   "id": "f8ba50b2",
   "metadata": {
    "scrolled": false
   },
   "outputs": [
    {
     "data": {
      "text/plain": [
       "'lose feet grind color burn loneliness ocean away fear burn loneliness ocean away fear send blue sky light rain remember smile mama think eye grandma feel lose know belong tear roll better blue sky memories magical shine moonlight remind mystical moments remember night cross line need blue forget pain blue heart blue surround want blue tear blue eye doubt miamafrican send blue sky blue sky blue sky blue sky send blue sky cause destiny hate company blue send wish open sky away blue strong hold blue sky hold say blue sky hold blue sky blue sky'"
      ]
     },
     "execution_count": 57,
     "metadata": {},
     "output_type": "execute_result"
    }
   ],
   "source": [
    "train.iloc[0, 5]"
   ]
  },
  {
   "cell_type": "markdown",
   "id": "d6fdfa83",
   "metadata": {},
   "source": [
    "# EDA"
   ]
  },
  {
   "cell_type": "markdown",
   "id": "f66d9442",
   "metadata": {},
   "source": [
    "I want to see how many times each word shows up not just in a song's lyrics, but in all songs that fall into the same genre. I am going to use data dictionary where its key becomes words and value is # of times that each word used in the genre."
   ]
  },
  {
   "cell_type": "code",
   "execution_count": 58,
   "id": "b1983cdd",
   "metadata": {},
   "outputs": [],
   "source": [
    "def dd_creation(x):\n",
    "    dictionary = {}\n",
    "    for i in x:\n",
    "        string = i\n",
    "        res = string.split()\n",
    "        for j in res:\n",
    "            if j not in dictionary.keys():\n",
    "                dictionary[j] = 1\n",
    "            else:\n",
    "                dictionary[j] = dictionary[j] + 1\n",
    "                \n",
    "    return dictionary\n",
    "            \n",
    "            "
   ]
  },
  {
   "cell_type": "code",
   "execution_count": null,
   "id": "fb0f7cd1",
   "metadata": {},
   "outputs": [],
   "source": []
  },
  {
   "cell_type": "code",
   "execution_count": 59,
   "id": "96c78cf9",
   "metadata": {},
   "outputs": [],
   "source": [
    "hiphop_train = dd_creation(train[train['genre'] == 'hip hop']['lyrics'])\n",
    "blues_train = dd_creation(train[train['genre'] == 'blues']['lyrics'])"
   ]
  },
  {
   "cell_type": "code",
   "execution_count": 60,
   "id": "41312681",
   "metadata": {},
   "outputs": [
    {
     "data": {
      "text/plain": [
       "(19191, 12019)"
      ]
     },
     "execution_count": 60,
     "metadata": {},
     "output_type": "execute_result"
    }
   ],
   "source": [
    "total_hiphop_word_count = sum(hiphop_train.values())\n",
    "total_blues_word_count = sum(blues_train.values())\n",
    "total_hiphop_word_count, total_blues_word_count"
   ]
  },
  {
   "cell_type": "markdown",
   "id": "b9f9f70d",
   "metadata": {},
   "source": [
    "Sorting the dictionary based on the # of times in descending order."
   ]
  },
  {
   "cell_type": "code",
   "execution_count": 61,
   "id": "244fb97f",
   "metadata": {},
   "outputs": [],
   "source": [
    "hiphop_train = dict(sorted(hiphop_train.items(), key = lambda item: item[1], reverse = True))\n",
    "blues_train = dict(sorted(blues_train.items(), key = lambda item: item[1], reverse = True))"
   ]
  },
  {
   "cell_type": "markdown",
   "id": "75a066ce",
   "metadata": {},
   "source": [
    "List of all word used in both hiphop and blues."
   ]
  },
  {
   "cell_type": "code",
   "execution_count": 64,
   "id": "833e4e1b",
   "metadata": {},
   "outputs": [],
   "source": [
    "list_of_words = []\n",
    "def list_creation(x):\n",
    "    for i in x:\n",
    "        if i not in list_of_words:\n",
    "            if i.isalpha():\n",
    "                list_of_words.append(i)\n",
    "            \n",
    "list_creation(hiphop_train)\n",
    "list_creation(blues_train)"
   ]
  },
  {
   "cell_type": "markdown",
   "id": "4e3e961e",
   "metadata": {},
   "source": [
    "Since the total number of words used in hip hop and blues are different, it is not okay just to use the number of times each word used in hip hop and blues. Instead, I decided to use frequency by dividing the number by the total number words in hiphop and blues."
   ]
  },
  {
   "cell_type": "code",
   "execution_count": 66,
   "id": "341f6e28",
   "metadata": {},
   "outputs": [],
   "source": [
    "# These are the words that I chose to distinguish the genres.\n",
    "words = ['like', 'time', 'nigga', 'shit','believe', 'money', 'smoke', 'lyric', 'bitch', 'away', 'leave', 'long', 'right', \n",
    "         'cause', 'night', 'change']\n",
    "\n",
    "def df_creating(x):\n",
    "    df = pd.DataFrame({'word' : x})\n",
    "    fre_in_hiphop = []\n",
    "    fre_in_blues = []\n",
    "    for i in x:\n",
    "        #hiphop\n",
    "        fre_in_hiphop.append(hiphop_train[i] / total_hiphop_word_count)\n",
    "        #blues\n",
    "        fre_in_blues.append(blues_train[i] / total_blues_word_count)\n",
    "        \n",
    "    df['hiphop'] = fre_in_hiphop\n",
    "    df['blues'] = fre_in_blues\n",
    "    \n",
    "    return df"
   ]
  },
  {
   "cell_type": "markdown",
   "id": "eb9a1d72",
   "metadata": {},
   "source": [
    "Putting in a data frame for readability."
   ]
  },
  {
   "cell_type": "code",
   "execution_count": 67,
   "id": "32d17152",
   "metadata": {
    "scrolled": true
   },
   "outputs": [
    {
     "data": {
      "text/html": [
       "<div>\n",
       "<style scoped>\n",
       "    .dataframe tbody tr th:only-of-type {\n",
       "        vertical-align: middle;\n",
       "    }\n",
       "\n",
       "    .dataframe tbody tr th {\n",
       "        vertical-align: top;\n",
       "    }\n",
       "\n",
       "    .dataframe thead th {\n",
       "        text-align: right;\n",
       "    }\n",
       "</style>\n",
       "<table border=\"1\" class=\"dataframe\">\n",
       "  <thead>\n",
       "    <tr style=\"text-align: right;\">\n",
       "      <th></th>\n",
       "      <th>word</th>\n",
       "      <th>hiphop</th>\n",
       "      <th>blues</th>\n",
       "    </tr>\n",
       "  </thead>\n",
       "  <tbody>\n",
       "    <tr>\n",
       "      <th>0</th>\n",
       "      <td>like</td>\n",
       "      <td>0.024282</td>\n",
       "      <td>0.009984</td>\n",
       "    </tr>\n",
       "    <tr>\n",
       "      <th>1</th>\n",
       "      <td>time</td>\n",
       "      <td>0.005315</td>\n",
       "      <td>0.017639</td>\n",
       "    </tr>\n",
       "    <tr>\n",
       "      <th>2</th>\n",
       "      <td>nigga</td>\n",
       "      <td>0.012610</td>\n",
       "      <td>0.000250</td>\n",
       "    </tr>\n",
       "    <tr>\n",
       "      <th>3</th>\n",
       "      <td>shit</td>\n",
       "      <td>0.010838</td>\n",
       "      <td>0.002746</td>\n",
       "    </tr>\n",
       "    <tr>\n",
       "      <th>4</th>\n",
       "      <td>believe</td>\n",
       "      <td>0.000834</td>\n",
       "      <td>0.004410</td>\n",
       "    </tr>\n",
       "    <tr>\n",
       "      <th>5</th>\n",
       "      <td>money</td>\n",
       "      <td>0.003335</td>\n",
       "      <td>0.002579</td>\n",
       "    </tr>\n",
       "    <tr>\n",
       "      <th>6</th>\n",
       "      <td>smoke</td>\n",
       "      <td>0.003126</td>\n",
       "      <td>0.000416</td>\n",
       "    </tr>\n",
       "    <tr>\n",
       "      <th>7</th>\n",
       "      <td>lyric</td>\n",
       "      <td>0.007816</td>\n",
       "      <td>0.000250</td>\n",
       "    </tr>\n",
       "    <tr>\n",
       "      <th>8</th>\n",
       "      <td>bitch</td>\n",
       "      <td>0.010265</td>\n",
       "      <td>0.001165</td>\n",
       "    </tr>\n",
       "    <tr>\n",
       "      <th>9</th>\n",
       "      <td>away</td>\n",
       "      <td>0.000886</td>\n",
       "      <td>0.009235</td>\n",
       "    </tr>\n",
       "    <tr>\n",
       "      <th>10</th>\n",
       "      <td>leave</td>\n",
       "      <td>0.003387</td>\n",
       "      <td>0.008986</td>\n",
       "    </tr>\n",
       "    <tr>\n",
       "      <th>11</th>\n",
       "      <td>long</td>\n",
       "      <td>0.001303</td>\n",
       "      <td>0.009984</td>\n",
       "    </tr>\n",
       "    <tr>\n",
       "      <th>12</th>\n",
       "      <td>right</td>\n",
       "      <td>0.004638</td>\n",
       "      <td>0.007239</td>\n",
       "    </tr>\n",
       "    <tr>\n",
       "      <th>13</th>\n",
       "      <td>cause</td>\n",
       "      <td>0.009484</td>\n",
       "      <td>0.007322</td>\n",
       "    </tr>\n",
       "    <tr>\n",
       "      <th>14</th>\n",
       "      <td>night</td>\n",
       "      <td>0.001198</td>\n",
       "      <td>0.006906</td>\n",
       "    </tr>\n",
       "    <tr>\n",
       "      <th>15</th>\n",
       "      <td>change</td>\n",
       "      <td>0.000521</td>\n",
       "      <td>0.003494</td>\n",
       "    </tr>\n",
       "  </tbody>\n",
       "</table>\n",
       "</div>"
      ],
      "text/plain": [
       "       word    hiphop     blues\n",
       "0      like  0.024282  0.009984\n",
       "1      time  0.005315  0.017639\n",
       "2     nigga  0.012610  0.000250\n",
       "3      shit  0.010838  0.002746\n",
       "4   believe  0.000834  0.004410\n",
       "5     money  0.003335  0.002579\n",
       "6     smoke  0.003126  0.000416\n",
       "7     lyric  0.007816  0.000250\n",
       "8     bitch  0.010265  0.001165\n",
       "9      away  0.000886  0.009235\n",
       "10    leave  0.003387  0.008986\n",
       "11     long  0.001303  0.009984\n",
       "12    right  0.004638  0.007239\n",
       "13    cause  0.009484  0.007322\n",
       "14    night  0.001198  0.006906\n",
       "15   change  0.000521  0.003494"
      ]
     },
     "execution_count": 67,
     "metadata": {},
     "output_type": "execute_result"
    }
   ],
   "source": [
    "demo = df_creating(words)\n",
    "demo"
   ]
  },
  {
   "cell_type": "markdown",
   "id": "b9974797",
   "metadata": {},
   "source": [
    "Bar Plot that shows the frequencies of the chosen words."
   ]
  },
  {
   "cell_type": "code",
   "execution_count": 68,
   "id": "8f4f0c3e",
   "metadata": {},
   "outputs": [
    {
     "data": {
      "text/plain": [
       "Text(0, 0.5, 'frequency')"
      ]
     },
     "execution_count": 68,
     "metadata": {},
     "output_type": "execute_result"
    },
    {
     "data": {
      "image/png": "[encoded data removed]",
      "text/plain": [
       "<Figure size 432x288 with 1 Axes>"
      ]
     },
     "metadata": {
      "needs_background": "light"
     },
     "output_type": "display_data"
    }
   ],
   "source": [
    "demo.plot(kind = 'bar', x = 'word')\n",
    "plt.title(\"Frequency of chosen words\")\n",
    "plt.xlabel('words')\n",
    "plt.ylabel('frequency')"
   ]
  },
  {
   "cell_type": "markdown",
   "id": "9aaf8e0a",
   "metadata": {},
   "source": [
    "Below function returns a matrix if the chosen words were used in lyrics. For example, if the word 'like' was used in a lyrics, it returns 1 and 0 if not."
   ]
  },
  {
   "cell_type": "code",
   "execution_count": 69,
   "id": "04ddeb59",
   "metadata": {},
   "outputs": [],
   "source": [
    "def words_in_texts(words, texts):\n",
    "    \n",
    "    indicator_array = [[1 if i in texts.iloc[j] else 0 for i in words] for j in np.arange(len(texts))]\n",
    "    return indicator_array"
   ]
  },
  {
   "cell_type": "code",
   "execution_count": 70,
   "id": "a564e744",
   "metadata": {},
   "outputs": [],
   "source": [
    "my_array = words_in_texts(words, train['lyrics'])"
   ]
  },
  {
   "cell_type": "markdown",
   "id": "9f5737e6",
   "metadata": {},
   "source": [
    "# Building A Model."
   ]
  },
  {
   "cell_type": "code",
   "execution_count": 71,
   "id": "a2496f0d",
   "metadata": {},
   "outputs": [
    {
     "data": {
      "text/plain": [
       "(array([[0, 0, 0, 0, 0, 0, 0, 0, 0, 1, 0, 1, 0, 1, 1, 0],\n",
       "        [1, 0, 0, 0, 0, 0, 0, 0, 0, 1, 0, 1, 0, 1, 0, 1],\n",
       "        [1, 0, 1, 0, 0, 0, 0, 0, 1, 0, 0, 0, 1, 0, 0, 0],\n",
       "        [1, 0, 1, 1, 0, 0, 0, 0, 1, 1, 1, 0, 1, 1, 0, 0],\n",
       "        [1, 0, 0, 0, 0, 0, 0, 1, 0, 0, 0, 1, 0, 0, 0, 0]]),\n",
       " 527       blues\n",
       " 471       blues\n",
       " 1170    hip hop\n",
       " 1135    hip hop\n",
       " 1105    hip hop\n",
       " Name: genre, dtype: object)"
      ]
     },
     "execution_count": 71,
     "metadata": {},
     "output_type": "execute_result"
    }
   ],
   "source": [
    "X_train = np.array(words_in_texts(words, train['lyrics']))\n",
    "Y_train = train['genre']\n",
    "\n",
    "X_train[:5], Y_train[:5]"
   ]
  },
  {
   "cell_type": "code",
   "execution_count": 72,
   "id": "f2cb590c",
   "metadata": {},
   "outputs": [
    {
     "name": "stdout",
     "output_type": "stream",
     "text": [
      "Training Accuracy:  0.953168044077135\n"
     ]
    }
   ],
   "source": [
    "from sklearn.linear_model import LogisticRegression\n",
    "\n",
    "model = LogisticRegression()\n",
    "model.fit(X_train, Y_train)\n",
    "\n",
    "training_accuracy = np.mean(model.predict(X_train) == Y_train)\n",
    "print(\"Training Accuracy: \", training_accuracy)"
   ]
  },
  {
   "cell_type": "markdown",
   "id": "edc8c841",
   "metadata": {},
   "source": [
    "Achieved 95% of Accuracy!"
   ]
  },
  {
   "cell_type": "code",
   "execution_count": 77,
   "id": "9a3031b4",
   "metadata": {},
   "outputs": [
    {
     "name": "stderr",
     "output_type": "stream",
     "text": [
      "/tmp/ipykernel_25/600859466.py:1: SettingWithCopyWarning: \n",
      "A value is trying to be set on a copy of a slice from a DataFrame.\n",
      "Try using .loc[row_indexer,col_indexer] = value instead\n",
      "\n",
      "See the caveats in the documentation: https://pandas.pydata.org/pandas-docs/stable/user_guide/indexing.html#returning-a-view-versus-a-copy\n",
      "  train['predicted'] = model.predict(X_train)\n"
     ]
    }
   ],
   "source": [
    "train['predicted'] = model.predict(X_train)"
   ]
  },
  {
   "cell_type": "markdown",
   "id": "20231805",
   "metadata": {},
   "source": [
    "Applying Model to the test set!"
   ]
  },
  {
   "cell_type": "code",
   "execution_count": 78,
   "id": "d65fec6a",
   "metadata": {
    "scrolled": true
   },
   "outputs": [
    {
     "name": "stderr",
     "output_type": "stream",
     "text": [
      "/tmp/ipykernel_25/4206294194.py:3: SettingWithCopyWarning: \n",
      "A value is trying to be set on a copy of a slice from a DataFrame.\n",
      "Try using .loc[row_indexer,col_indexer] = value instead\n",
      "\n",
      "See the caveats in the documentation: https://pandas.pydata.org/pandas-docs/stable/user_guide/indexing.html#returning-a-view-versus-a-copy\n",
      "  test['predcted'] = model.predict(test_matrix)\n"
     ]
    },
    {
     "data": {
      "text/html": [
       "<div>\n",
       "<style scoped>\n",
       "    .dataframe tbody tr th:only-of-type {\n",
       "        vertical-align: middle;\n",
       "    }\n",
       "\n",
       "    .dataframe tbody tr th {\n",
       "        vertical-align: top;\n",
       "    }\n",
       "\n",
       "    .dataframe thead th {\n",
       "        text-align: right;\n",
       "    }\n",
       "</style>\n",
       "<table border=\"1\" class=\"dataframe\">\n",
       "  <thead>\n",
       "    <tr style=\"text-align: right;\">\n",
       "      <th></th>\n",
       "      <th>Unnamed: 0</th>\n",
       "      <th>artist_name</th>\n",
       "      <th>track_name</th>\n",
       "      <th>release_date</th>\n",
       "      <th>genre</th>\n",
       "      <th>lyrics</th>\n",
       "      <th>predcted</th>\n",
       "    </tr>\n",
       "  </thead>\n",
       "  <tbody>\n",
       "    <tr>\n",
       "      <th>999</th>\n",
       "      <td>82173</td>\n",
       "      <td>hiphop tamizha</td>\n",
       "      <td>vaadi nee vaa</td>\n",
       "      <td>2018</td>\n",
       "      <td>hip hop</td>\n",
       "      <td>couldn stand weather know rain thunder hill va...</td>\n",
       "      <td>blues</td>\n",
       "    </tr>\n",
       "    <tr>\n",
       "      <th>443</th>\n",
       "      <td>54055</td>\n",
       "      <td>eric gales</td>\n",
       "      <td>whatcha gon' do</td>\n",
       "      <td>2018</td>\n",
       "      <td>blues</td>\n",
       "      <td>time wonder laugh sleep dust see culture fade ...</td>\n",
       "      <td>blues</td>\n",
       "    </tr>\n",
       "    <tr>\n",
       "      <th>1093</th>\n",
       "      <td>82322</td>\n",
       "      <td>nappy roots</td>\n",
       "      <td>dime, quarter, nickel, penny</td>\n",
       "      <td>2019</td>\n",
       "      <td>hip hop</td>\n",
       "      <td>break dollar gutter south dime quarter nickel ...</td>\n",
       "      <td>hip hop</td>\n",
       "    </tr>\n",
       "    <tr>\n",
       "      <th>1015</th>\n",
       "      <td>82198</td>\n",
       "      <td>q-tip</td>\n",
       "      <td>won't trade</td>\n",
       "      <td>2018</td>\n",
       "      <td>hip hop</td>\n",
       "      <td>know epitaph niggers laugh trick gas siphon ca...</td>\n",
       "      <td>hip hop</td>\n",
       "    </tr>\n",
       "    <tr>\n",
       "      <th>457</th>\n",
       "      <td>54098</td>\n",
       "      <td>thee oh sees</td>\n",
       "      <td>sentient oona</td>\n",
       "      <td>2018</td>\n",
       "      <td>blues</td>\n",
       "      <td>care hold unwind mystery free vultures close p...</td>\n",
       "      <td>blues</td>\n",
       "    </tr>\n",
       "    <tr>\n",
       "      <th>...</th>\n",
       "      <td>...</td>\n",
       "      <td>...</td>\n",
       "      <td>...</td>\n",
       "      <td>...</td>\n",
       "      <td>...</td>\n",
       "      <td>...</td>\n",
       "      <td>...</td>\n",
       "    </tr>\n",
       "    <tr>\n",
       "      <th>476</th>\n",
       "      <td>54153</td>\n",
       "      <td>southern avenue</td>\n",
       "      <td>keep on</td>\n",
       "      <td>2019</td>\n",
       "      <td>blues</td>\n",
       "      <td>take beat animal away rush send astray finally...</td>\n",
       "      <td>blues</td>\n",
       "    </tr>\n",
       "    <tr>\n",
       "      <th>1167</th>\n",
       "      <td>82426</td>\n",
       "      <td>mos def</td>\n",
       "      <td>sex, love &amp; money</td>\n",
       "      <td>2019</td>\n",
       "      <td>hip hop</td>\n",
       "      <td>money brooklyn money come danger rockin best b...</td>\n",
       "      <td>hip hop</td>\n",
       "    </tr>\n",
       "    <tr>\n",
       "      <th>528</th>\n",
       "      <td>54281</td>\n",
       "      <td>gary clark jr.</td>\n",
       "      <td>the governor</td>\n",
       "      <td>2019</td>\n",
       "      <td>blues</td>\n",
       "      <td>meet friend governor make meet face face fault...</td>\n",
       "      <td>blues</td>\n",
       "    </tr>\n",
       "    <tr>\n",
       "      <th>1146</th>\n",
       "      <td>82398</td>\n",
       "      <td>big sean</td>\n",
       "      <td>dance (a$$)</td>\n",
       "      <td>2019</td>\n",
       "      <td>hip hop</td>\n",
       "      <td>stop motherfucker hammer time like stupid stup...</td>\n",
       "      <td>hip hop</td>\n",
       "    </tr>\n",
       "    <tr>\n",
       "      <th>977</th>\n",
       "      <td>82143</td>\n",
       "      <td>curren$y</td>\n",
       "      <td>boulders</td>\n",
       "      <td>2018</td>\n",
       "      <td>hip hop</td>\n",
       "      <td>drive bout different cars night switch niggas ...</td>\n",
       "      <td>hip hop</td>\n",
       "    </tr>\n",
       "  </tbody>\n",
       "</table>\n",
       "<p>65 rows × 7 columns</p>\n",
       "</div>"
      ],
      "text/plain": [
       "      Unnamed: 0      artist_name                    track_name  release_date  \\\n",
       "999        82173   hiphop tamizha                 vaadi nee vaa          2018   \n",
       "443        54055       eric gales               whatcha gon' do          2018   \n",
       "1093       82322      nappy roots  dime, quarter, nickel, penny          2019   \n",
       "1015       82198            q-tip                   won't trade          2018   \n",
       "457        54098     thee oh sees                 sentient oona          2018   \n",
       "...          ...              ...                           ...           ...   \n",
       "476        54153  southern avenue                       keep on          2019   \n",
       "1167       82426          mos def             sex, love & money          2019   \n",
       "528        54281   gary clark jr.                  the governor          2019   \n",
       "1146       82398         big sean                   dance (a$$)          2019   \n",
       "977        82143         curren$y                      boulders          2018   \n",
       "\n",
       "        genre                                             lyrics predcted  \n",
       "999   hip hop  couldn stand weather know rain thunder hill va...    blues  \n",
       "443     blues  time wonder laugh sleep dust see culture fade ...    blues  \n",
       "1093  hip hop  break dollar gutter south dime quarter nickel ...  hip hop  \n",
       "1015  hip hop  know epitaph niggers laugh trick gas siphon ca...  hip hop  \n",
       "457     blues  care hold unwind mystery free vultures close p...    blues  \n",
       "...       ...                                                ...      ...  \n",
       "476     blues  take beat animal away rush send astray finally...    blues  \n",
       "1167  hip hop  money brooklyn money come danger rockin best b...  hip hop  \n",
       "528     blues  meet friend governor make meet face face fault...    blues  \n",
       "1146  hip hop  stop motherfucker hammer time like stupid stup...  hip hop  \n",
       "977   hip hop  drive bout different cars night switch niggas ...  hip hop  \n",
       "\n",
       "[65 rows x 7 columns]"
      ]
     },
     "execution_count": 78,
     "metadata": {},
     "output_type": "execute_result"
    }
   ],
   "source": [
    "test_matrix = words_in_texts(words, test['lyrics'])\n",
    "\n",
    "test['predcted'] = model.predict(test_matrix)\n",
    "test"
   ]
  },
  {
   "cell_type": "code",
   "execution_count": 79,
   "id": "ef57c6e8",
   "metadata": {},
   "outputs": [
    {
     "data": {
      "text/plain": [
       "0.9538461538461539"
      ]
     },
     "execution_count": 79,
     "metadata": {},
     "output_type": "execute_result"
    }
   ],
   "source": [
    "test_accuracy = np.mean(model.predict(test_matrix) == test['genre'])\n",
    "test_accuracy"
   ]
  },
  {
   "cell_type": "markdown",
   "id": "22618329",
   "metadata": {},
   "source": [
    "Achieved even higher accuracy!"
   ]
  },
  {
   "cell_type": "code",
   "execution_count": null,
   "id": "9cfde4ee",
   "metadata": {},
   "outputs": [],
   "source": []
  },
  {
   "cell_type": "markdown",
   "id": "7bb2ff00",
   "metadata": {},
   "source": [
    "# HipHop vs Pop"
   ]
  },
  {
   "cell_type": "code",
   "execution_count": 30,
   "id": "793da88c",
   "metadata": {},
   "outputs": [
    {
     "data": {
      "text/plain": [
       "hip hop    224\n",
       "pop        195\n",
       "Name: genre, dtype: int64"
      ]
     },
     "execution_count": 30,
     "metadata": {},
     "output_type": "execute_result"
    }
   ],
   "source": [
    "music_second = music[(music['genre'] == 'hip hop') | (music['genre'] == 'pop')]\n",
    "music_second['genre'].value_counts()"
   ]
  },
  {
   "cell_type": "code",
   "execution_count": 31,
   "id": "24869f78",
   "metadata": {},
   "outputs": [
    {
     "data": {
      "text/html": [
       "<div>\n",
       "<style scoped>\n",
       "    .dataframe tbody tr th:only-of-type {\n",
       "        vertical-align: middle;\n",
       "    }\n",
       "\n",
       "    .dataframe tbody tr th {\n",
       "        vertical-align: top;\n",
       "    }\n",
       "\n",
       "    .dataframe thead th {\n",
       "        text-align: right;\n",
       "    }\n",
       "</style>\n",
       "<table border=\"1\" class=\"dataframe\">\n",
       "  <thead>\n",
       "    <tr style=\"text-align: right;\">\n",
       "      <th></th>\n",
       "      <th>Unnamed: 0</th>\n",
       "      <th>artist_name</th>\n",
       "      <th>track_name</th>\n",
       "      <th>release_date</th>\n",
       "      <th>genre</th>\n",
       "      <th>lyrics</th>\n",
       "    </tr>\n",
       "  </thead>\n",
       "  <tbody>\n",
       "    <tr>\n",
       "      <th>0</th>\n",
       "      <td>19699</td>\n",
       "      <td>bryson tiller</td>\n",
       "      <td>canceled</td>\n",
       "      <td>2018</td>\n",
       "      <td>pop</td>\n",
       "      <td>tell tell play know somebody like hard guard k...</td>\n",
       "    </tr>\n",
       "    <tr>\n",
       "      <th>1</th>\n",
       "      <td>19701</td>\n",
       "      <td>travis scott</td>\n",
       "      <td>stop trying to be god</td>\n",
       "      <td>2018</td>\n",
       "      <td>pop</td>\n",
       "      <td>real action party trippers grasshoppers ones g...</td>\n",
       "    </tr>\n",
       "    <tr>\n",
       "      <th>2</th>\n",
       "      <td>19708</td>\n",
       "      <td>little mix</td>\n",
       "      <td>wasabi</td>\n",
       "      <td>2018</td>\n",
       "      <td>pop</td>\n",
       "      <td>stick like toffee like coffee change mind drop...</td>\n",
       "    </tr>\n",
       "    <tr>\n",
       "      <th>3</th>\n",
       "      <td>19711</td>\n",
       "      <td>migos</td>\n",
       "      <td>notice me</td>\n",
       "      <td>2018</td>\n",
       "      <td>pop</td>\n",
       "      <td>good pull slowly saint feet jewelry notice kno...</td>\n",
       "    </tr>\n",
       "    <tr>\n",
       "      <th>4</th>\n",
       "      <td>19713</td>\n",
       "      <td>bts</td>\n",
       "      <td>fake love</td>\n",
       "      <td>2018</td>\n",
       "      <td>pop</td>\n",
       "      <td>위해서라면 위해서라면 사랑만으로 완벽하길 약점들은 숨겨지길 이뤄지지 꿈속에서 sic...</td>\n",
       "    </tr>\n",
       "  </tbody>\n",
       "</table>\n",
       "</div>"
      ],
      "text/plain": [
       "   Unnamed: 0    artist_name             track_name  release_date genre  \\\n",
       "0       19699  bryson tiller               canceled          2018   pop   \n",
       "1       19701   travis scott  stop trying to be god          2018   pop   \n",
       "2       19708     little mix                 wasabi          2018   pop   \n",
       "3       19711          migos              notice me          2018   pop   \n",
       "4       19713            bts              fake love          2018   pop   \n",
       "\n",
       "                                              lyrics  \n",
       "0  tell tell play know somebody like hard guard k...  \n",
       "1  real action party trippers grasshoppers ones g...  \n",
       "2  stick like toffee like coffee change mind drop...  \n",
       "3  good pull slowly saint feet jewelry notice kno...  \n",
       "4  위해서라면 위해서라면 사랑만으로 완벽하길 약점들은 숨겨지길 이뤄지지 꿈속에서 sic...  "
      ]
     },
     "execution_count": 31,
     "metadata": {},
     "output_type": "execute_result"
    }
   ],
   "source": [
    "music_second.head(5)"
   ]
  },
  {
   "cell_type": "markdown",
   "id": "6c4c754f",
   "metadata": {},
   "source": [
    "Splitting Train and Test data for the second model."
   ]
  },
  {
   "cell_type": "code",
   "execution_count": 32,
   "id": "255780e7",
   "metadata": {},
   "outputs": [
    {
     "data": {
      "text/plain": [
       "hip hop    224\n",
       "pop        195\n",
       "Name: genre, dtype: int64"
      ]
     },
     "execution_count": 32,
     "metadata": {},
     "output_type": "execute_result"
    }
   ],
   "source": [
    "music_second['genre'].value_counts()"
   ]
  },
  {
   "cell_type": "code",
   "execution_count": 34,
   "id": "291b2565",
   "metadata": {
    "scrolled": true
   },
   "outputs": [
    {
     "data": {
      "text/plain": [
       "Unnamed: 0      0\n",
       "artist_name     0\n",
       "track_name      0\n",
       "release_date    0\n",
       "genre           0\n",
       "lyrics          0\n",
       "dtype: int64"
      ]
     },
     "execution_count": 34,
     "metadata": {},
     "output_type": "execute_result"
    }
   ],
   "source": [
    "music_second.isnull().sum()"
   ]
  },
  {
   "cell_type": "markdown",
   "id": "0e64c750",
   "metadata": {},
   "source": [
    "No missing value found."
   ]
  },
  {
   "cell_type": "markdown",
   "id": "e26ffea7",
   "metadata": {},
   "source": [
    "Splitting the dataset into training set and test set."
   ]
  },
  {
   "cell_type": "code",
   "execution_count": 35,
   "id": "047ae337",
   "metadata": {},
   "outputs": [],
   "source": [
    "train_second, test_second = train_test_split(music_second, test_size = 0.15)"
   ]
  },
  {
   "cell_type": "markdown",
   "id": "09af46c5",
   "metadata": {},
   "source": [
    "Creating the data dictionaries for hip hop and pop."
   ]
  },
  {
   "cell_type": "code",
   "execution_count": 39,
   "id": "985a0ba1",
   "metadata": {},
   "outputs": [],
   "source": [
    "hiphop_second = dd_creation(train_second[train_second['genre'] == 'hip hop']['lyrics'])\n",
    "pop_second = dd_creation(train_second[train_second['genre'] == 'pop']['lyrics'])"
   ]
  },
  {
   "cell_type": "code",
   "execution_count": 43,
   "id": "37423f60",
   "metadata": {},
   "outputs": [
    {
     "name": "stdout",
     "output_type": "stream",
     "text": [
      "Total words count for hiphop is 18220\n",
      "Total words count for pop is 21243\n"
     ]
    }
   ],
   "source": [
    "total_wordcount_hiphop_second = sum(hiphop_second.values())\n",
    "total_wordcount_pop_second = sum(pop_second.values())\n",
    "\n",
    "print(\"Total words count for hiphop is \" + str(total_wordcount_hiphop_second))\n",
    "print(\"Total words count for pop is \" + str(total_wordcount_pop_second))"
   ]
  },
  {
   "cell_type": "code",
   "execution_count": 44,
   "id": "e12b505c",
   "metadata": {},
   "outputs": [],
   "source": [
    "hiphop_second = dict(sorted(hiphop_second.items(), key = lambda item: item[1], reverse = True))\n",
    "pop_second = dict(sorted(pop_second.items(), key = lambda item: item[1], reverse = True))"
   ]
  },
  {
   "cell_type": "code",
   "execution_count": 47,
   "id": "a035b868",
   "metadata": {},
   "outputs": [],
   "source": [
    "def df_creating_second(x):\n",
    "    df = pd.DataFrame({'word' : x})\n",
    "    \n",
    "    fre_in_hiphop = []\n",
    "    fre_in_pop = []\n",
    "    \n",
    "    for i in x:\n",
    "        #hiphop\n",
    "        fre_in_hiphop.append(hiphop_second[i] / total_wordcount_hiphop_second)\n",
    "        #pop\n",
    "        fre_in_pop.append(pop_second[i] / total_wordcount_pop_second)\n",
    "        \n",
    "        \n",
    "    df['hiphop'] = fre_in_hiphop\n",
    "    df['pop'] = fre_in_pop\n",
    "    \n",
    "    \n",
    "    return df"
   ]
  },
  {
   "cell_type": "code",
   "execution_count": 82,
   "id": "30b80d36",
   "metadata": {},
   "outputs": [
    {
     "data": {
      "text/html": [
       "<div>\n",
       "<style scoped>\n",
       "    .dataframe tbody tr th:only-of-type {\n",
       "        vertical-align: middle;\n",
       "    }\n",
       "\n",
       "    .dataframe tbody tr th {\n",
       "        vertical-align: top;\n",
       "    }\n",
       "\n",
       "    .dataframe thead th {\n",
       "        text-align: right;\n",
       "    }\n",
       "</style>\n",
       "<table border=\"1\" class=\"dataframe\">\n",
       "  <thead>\n",
       "    <tr style=\"text-align: right;\">\n",
       "      <th></th>\n",
       "      <th>word</th>\n",
       "      <th>hiphop</th>\n",
       "      <th>pop</th>\n",
       "    </tr>\n",
       "  </thead>\n",
       "  <tbody>\n",
       "    <tr>\n",
       "      <th>0</th>\n",
       "      <td>like</td>\n",
       "      <td>0.023600</td>\n",
       "      <td>0.024290</td>\n",
       "    </tr>\n",
       "    <tr>\n",
       "      <th>1</th>\n",
       "      <td>time</td>\n",
       "      <td>0.005488</td>\n",
       "      <td>0.009274</td>\n",
       "    </tr>\n",
       "    <tr>\n",
       "      <th>2</th>\n",
       "      <td>nigga</td>\n",
       "      <td>0.013063</td>\n",
       "      <td>0.004613</td>\n",
       "    </tr>\n",
       "    <tr>\n",
       "      <th>3</th>\n",
       "      <td>shit</td>\n",
       "      <td>0.010757</td>\n",
       "      <td>0.010074</td>\n",
       "    </tr>\n",
       "    <tr>\n",
       "      <th>4</th>\n",
       "      <td>believe</td>\n",
       "      <td>0.000878</td>\n",
       "      <td>0.004613</td>\n",
       "    </tr>\n",
       "    <tr>\n",
       "      <th>5</th>\n",
       "      <td>money</td>\n",
       "      <td>0.003842</td>\n",
       "      <td>0.003625</td>\n",
       "    </tr>\n",
       "    <tr>\n",
       "      <th>6</th>\n",
       "      <td>smoke</td>\n",
       "      <td>0.002086</td>\n",
       "      <td>0.001977</td>\n",
       "    </tr>\n",
       "    <tr>\n",
       "      <th>7</th>\n",
       "      <td>lyric</td>\n",
       "      <td>0.008178</td>\n",
       "      <td>0.000141</td>\n",
       "    </tr>\n",
       "    <tr>\n",
       "      <th>8</th>\n",
       "      <td>bitch</td>\n",
       "      <td>0.010483</td>\n",
       "      <td>0.010074</td>\n",
       "    </tr>\n",
       "    <tr>\n",
       "      <th>9</th>\n",
       "      <td>away</td>\n",
       "      <td>0.000768</td>\n",
       "      <td>0.003342</td>\n",
       "    </tr>\n",
       "    <tr>\n",
       "      <th>10</th>\n",
       "      <td>leave</td>\n",
       "      <td>0.003677</td>\n",
       "      <td>0.007344</td>\n",
       "    </tr>\n",
       "    <tr>\n",
       "      <th>11</th>\n",
       "      <td>long</td>\n",
       "      <td>0.001372</td>\n",
       "      <td>0.001130</td>\n",
       "    </tr>\n",
       "    <tr>\n",
       "      <th>12</th>\n",
       "      <td>right</td>\n",
       "      <td>0.004940</td>\n",
       "      <td>0.006967</td>\n",
       "    </tr>\n",
       "    <tr>\n",
       "      <th>13</th>\n",
       "      <td>cause</td>\n",
       "      <td>0.009824</td>\n",
       "      <td>0.009744</td>\n",
       "    </tr>\n",
       "    <tr>\n",
       "      <th>14</th>\n",
       "      <td>night</td>\n",
       "      <td>0.001098</td>\n",
       "      <td>0.007814</td>\n",
       "    </tr>\n",
       "    <tr>\n",
       "      <th>15</th>\n",
       "      <td>change</td>\n",
       "      <td>0.000549</td>\n",
       "      <td>0.002212</td>\n",
       "    </tr>\n",
       "  </tbody>\n",
       "</table>\n",
       "</div>"
      ],
      "text/plain": [
       "       word    hiphop       pop\n",
       "0      like  0.023600  0.024290\n",
       "1      time  0.005488  0.009274\n",
       "2     nigga  0.013063  0.004613\n",
       "3      shit  0.010757  0.010074\n",
       "4   believe  0.000878  0.004613\n",
       "5     money  0.003842  0.003625\n",
       "6     smoke  0.002086  0.001977\n",
       "7     lyric  0.008178  0.000141\n",
       "8     bitch  0.010483  0.010074\n",
       "9      away  0.000768  0.003342\n",
       "10    leave  0.003677  0.007344\n",
       "11     long  0.001372  0.001130\n",
       "12    right  0.004940  0.006967\n",
       "13    cause  0.009824  0.009744\n",
       "14    night  0.001098  0.007814\n",
       "15   change  0.000549  0.002212"
      ]
     },
     "execution_count": 82,
     "metadata": {},
     "output_type": "execute_result"
    }
   ],
   "source": [
    "table = df_creating_second(words)\n",
    "table"
   ]
  },
  {
   "cell_type": "code",
   "execution_count": 83,
   "id": "b641a8fd",
   "metadata": {},
   "outputs": [
    {
     "data": {
      "text/plain": [
       "Text(0, 0.5, 'frequency')"
      ]
     },
     "execution_count": 83,
     "metadata": {},
     "output_type": "execute_result"
    },
    {
     "data": {
      "image/png": "[encoded data removed]",
      "text/plain": [
       "<Figure size 432x288 with 1 Axes>"
      ]
     },
     "metadata": {
      "needs_background": "light"
     },
     "output_type": "display_data"
    }
   ],
   "source": [
    "table.plot(kind = 'bar', x = 'word')\n",
    "plt.title(\"Frequency of chosen words\")\n",
    "plt.xlabel('words')\n",
    "plt.ylabel('frequency')"
   ]
  },
  {
   "cell_type": "code",
   "execution_count": 84,
   "id": "9bf8412c",
   "metadata": {},
   "outputs": [
    {
     "data": {
      "text/plain": [
       "(array([[1, 1, 1, 1, 1, 0, 0, 0, 1, 0, 1, 0, 0, 1, 0, 0],\n",
       "        [1, 0, 0, 1, 0, 1, 0, 0, 0, 0, 1, 1, 0, 1, 1, 0],\n",
       "        [1, 0, 0, 1, 1, 0, 0, 0, 0, 0, 0, 0, 0, 0, 0, 1],\n",
       "        [1, 1, 1, 0, 0, 1, 0, 0, 1, 0, 0, 0, 0, 1, 0, 0],\n",
       "        [0, 0, 0, 0, 0, 0, 0, 0, 0, 0, 0, 0, 0, 0, 0, 0]]),\n",
       " 0    pop\n",
       " 1    pop\n",
       " 2    pop\n",
       " 3    pop\n",
       " 4    pop\n",
       " Name: genre, dtype: object)"
      ]
     },
     "execution_count": 84,
     "metadata": {},
     "output_type": "execute_result"
    }
   ],
   "source": [
    "X_train_second = np.array(words_in_texts(words, music_second['lyrics']))\n",
    "Y_train_second = music_second['genre']\n",
    "\n",
    "X_train_second[:5], Y_train_second[:5]"
   ]
  },
  {
   "cell_type": "code",
   "execution_count": 87,
   "id": "503e3e79",
   "metadata": {},
   "outputs": [
    {
     "data": {
      "text/plain": [
       "LogisticRegression()"
      ]
     },
     "execution_count": 87,
     "metadata": {},
     "output_type": "execute_result"
    }
   ],
   "source": [
    "second_model = LogisticRegression()\n",
    "second_model.fit(X_train_second, Y_train_second)"
   ]
  },
  {
   "cell_type": "code",
   "execution_count": 96,
   "id": "99a16abd",
   "metadata": {},
   "outputs": [
    {
     "data": {
      "text/plain": [
       "0.8926014319809069"
      ]
     },
     "execution_count": 96,
     "metadata": {},
     "output_type": "execute_result"
    }
   ],
   "source": [
    "training_accuracy_for_second = np.mean(second_model.predict(X_train_second) == Y_train_second)\n",
    "training_accuracy_for_second"
   ]
  },
  {
   "cell_type": "markdown",
   "id": "3cc90e65",
   "metadata": {},
   "source": [
    "Got fairly high accuracy. However, can I imporve this accuracy by choosing different words?"
   ]
  },
  {
   "cell_type": "code",
   "execution_count": 146,
   "id": "83c90463",
   "metadata": {},
   "outputs": [],
   "source": [
    "words_for_second_model = ['nigga','niggas','lyric','commercial','night','believe','scar','home',\n",
    "                          'kiss','away','heart','waste', 'yeah']\n",
    "pop_second['commercial'] = 0"
   ]
  },
  {
   "cell_type": "code",
   "execution_count": 147,
   "id": "3e5ce5f0",
   "metadata": {},
   "outputs": [],
   "source": [
    "table2 = df_creating_second(words_for_second_model)"
   ]
  },
  {
   "cell_type": "code",
   "execution_count": 148,
   "id": "25e05e46",
   "metadata": {},
   "outputs": [
    {
     "data": {
      "text/plain": [
       "Text(0, 0.5, 'frequency')"
      ]
     },
     "execution_count": 148,
     "metadata": {},
     "output_type": "execute_result"
    },
    {
     "data": {
      "image/png": "[encoded data removed]",
      "text/plain": [
       "<Figure size 432x288 with 1 Axes>"
      ]
     },
     "metadata": {
      "needs_background": "light"
     },
     "output_type": "display_data"
    }
   ],
   "source": [
    "table2.plot(kind = 'bar', x = 'word')\n",
    "plt.title(\"Frequency of chosen words\")\n",
    "plt.xlabel('words')\n",
    "plt.ylabel('frequency')"
   ]
  },
  {
   "cell_type": "code",
   "execution_count": 149,
   "id": "054a66f0",
   "metadata": {},
   "outputs": [
    {
     "data": {
      "text/plain": [
       "(array([[1, 1, 0, 0, 0, 1, 0, 0, 0, 0, 0, 0, 1],\n",
       "        [0, 0, 0, 0, 1, 0, 0, 0, 0, 0, 1, 0, 1],\n",
       "        [0, 0, 0, 0, 0, 1, 0, 0, 0, 0, 0, 0, 1],\n",
       "        [1, 1, 0, 0, 0, 0, 0, 0, 0, 0, 0, 0, 1],\n",
       "        [0, 0, 0, 0, 0, 0, 0, 0, 0, 0, 0, 0, 0]]),\n",
       " 0    pop\n",
       " 1    pop\n",
       " 2    pop\n",
       " 3    pop\n",
       " 4    pop\n",
       " Name: genre, dtype: object)"
      ]
     },
     "execution_count": 149,
     "metadata": {},
     "output_type": "execute_result"
    }
   ],
   "source": [
    "X_train_second_2 = np.array(words_in_texts(words_for_second_model, music_second['lyrics']))\n",
    "Y_train_second_2 = music_second['genre']\n",
    "\n",
    "X_train_second_2[:5], Y_train_second_2[:5]"
   ]
  },
  {
   "cell_type": "code",
   "execution_count": 150,
   "id": "7e153956",
   "metadata": {},
   "outputs": [
    {
     "data": {
      "text/plain": [
       "LogisticRegression()"
      ]
     },
     "execution_count": 150,
     "metadata": {},
     "output_type": "execute_result"
    }
   ],
   "source": [
    "second_model_2 = LogisticRegression()\n",
    "second_model_2.fit(X_train_second_2, Y_train_second_2)"
   ]
  },
  {
   "cell_type": "code",
   "execution_count": 153,
   "id": "6ae499b5",
   "metadata": {},
   "outputs": [
    {
     "name": "stdout",
     "output_type": "stream",
     "text": [
      "Training Accuracy:  0.9140811455847255\n"
     ]
    }
   ],
   "source": [
    "training_accuracy_for_second_2= np.mean(second_model_2.predict(X_train_second_2) == Y_train_second_2)\n",
    "print(\"Training Accuracy: \", training_accuracy_for_second_2)"
   ]
  },
  {
   "cell_type": "markdown",
   "id": "45cbe502",
   "metadata": {},
   "source": [
    "Slight Increase in accuracy!"
   ]
  },
  {
   "cell_type": "markdown",
   "id": "65968e93",
   "metadata": {},
   "source": [
    "Applying the models to the test sets"
   ]
  },
  {
   "cell_type": "code",
   "execution_count": 154,
   "id": "c385a88f",
   "metadata": {},
   "outputs": [],
   "source": [
    "test_matrix_second = words_in_texts(words_for_second_model, test_second['lyrics'])"
   ]
  },
  {
   "cell_type": "code",
   "execution_count": 156,
   "id": "361c2961",
   "metadata": {},
   "outputs": [],
   "source": [
    "second_prediction = second_model_2.predict(test_matrix_second)"
   ]
  },
  {
   "cell_type": "code",
   "execution_count": 159,
   "id": "678b41c2",
   "metadata": {},
   "outputs": [
    {
     "name": "stderr",
     "output_type": "stream",
     "text": [
      "/tmp/ipykernel_25/396676531.py:1: SettingWithCopyWarning: \n",
      "A value is trying to be set on a copy of a slice from a DataFrame.\n",
      "Try using .loc[row_indexer,col_indexer] = value instead\n",
      "\n",
      "See the caveats in the documentation: https://pandas.pydata.org/pandas-docs/stable/user_guide/indexing.html#returning-a-view-versus-a-copy\n",
      "  test_second['second_prediction'] = second_prediction\n"
     ]
    }
   ],
   "source": [
    "test_second['second_prediction'] = second_prediction"
   ]
  },
  {
   "cell_type": "code",
   "execution_count": 160,
   "id": "fe3d2516",
   "metadata": {},
   "outputs": [
    {
     "data": {
      "text/html": [
       "<div>\n",
       "<style scoped>\n",
       "    .dataframe tbody tr th:only-of-type {\n",
       "        vertical-align: middle;\n",
       "    }\n",
       "\n",
       "    .dataframe tbody tr th {\n",
       "        vertical-align: top;\n",
       "    }\n",
       "\n",
       "    .dataframe thead th {\n",
       "        text-align: right;\n",
       "    }\n",
       "</style>\n",
       "<table border=\"1\" class=\"dataframe\">\n",
       "  <thead>\n",
       "    <tr style=\"text-align: right;\">\n",
       "      <th></th>\n",
       "      <th>Unnamed: 0</th>\n",
       "      <th>artist_name</th>\n",
       "      <th>track_name</th>\n",
       "      <th>release_date</th>\n",
       "      <th>genre</th>\n",
       "      <th>lyrics</th>\n",
       "      <th>second_prediction</th>\n",
       "    </tr>\n",
       "  </thead>\n",
       "  <tbody>\n",
       "    <tr>\n",
       "      <th>60</th>\n",
       "      <td>19881</td>\n",
       "      <td>travis scott</td>\n",
       "      <td>can't say</td>\n",
       "      <td>2018</td>\n",
       "      <td>pop</td>\n",
       "      <td>smokin hella weed alcohol shawty lick clean su...</td>\n",
       "      <td>pop</td>\n",
       "    </tr>\n",
       "    <tr>\n",
       "      <th>1094</th>\n",
       "      <td>82323</td>\n",
       "      <td>too $hort</td>\n",
       "      <td>the ghetto</td>\n",
       "      <td>2019</td>\n",
       "      <td>hip hop</td>\n",
       "      <td>talk bout ghetto funky funky ghetto try surviv...</td>\n",
       "      <td>hip hop</td>\n",
       "    </tr>\n",
       "    <tr>\n",
       "      <th>186</th>\n",
       "      <td>20245</td>\n",
       "      <td>p!nk</td>\n",
       "      <td>walk me home</td>\n",
       "      <td>2019</td>\n",
       "      <td>pop</td>\n",
       "      <td>somethin roll eye take better time good thing ...</td>\n",
       "      <td>pop</td>\n",
       "    </tr>\n",
       "    <tr>\n",
       "      <th>986</th>\n",
       "      <td>82156</td>\n",
       "      <td>mc lyte</td>\n",
       "      <td>i go on</td>\n",
       "      <td>2018</td>\n",
       "      <td>hip hop</td>\n",
       "      <td>flap tongue talk wrong real whack roll play ta...</td>\n",
       "      <td>hip hop</td>\n",
       "    </tr>\n",
       "    <tr>\n",
       "      <th>113</th>\n",
       "      <td>20020</td>\n",
       "      <td>meek mill</td>\n",
       "      <td>24/7 (feat. ella mai)</td>\n",
       "      <td>2018</td>\n",
       "      <td>pop</td>\n",
       "      <td>tell want yeah tell need yeah night talkin bou...</td>\n",
       "      <td>pop</td>\n",
       "    </tr>\n",
       "    <tr>\n",
       "      <th>...</th>\n",
       "      <td>...</td>\n",
       "      <td>...</td>\n",
       "      <td>...</td>\n",
       "      <td>...</td>\n",
       "      <td>...</td>\n",
       "      <td>...</td>\n",
       "      <td>...</td>\n",
       "    </tr>\n",
       "    <tr>\n",
       "      <th>968</th>\n",
       "      <td>82127</td>\n",
       "      <td>hazhe</td>\n",
       "      <td>crazy</td>\n",
       "      <td>2018</td>\n",
       "      <td>hip hop</td>\n",
       "      <td>crazy haze medina lyric welcome medina stadium...</td>\n",
       "      <td>pop</td>\n",
       "    </tr>\n",
       "    <tr>\n",
       "      <th>1028</th>\n",
       "      <td>82217</td>\n",
       "      <td>lndn drgs</td>\n",
       "      <td>hop out (remix) (feat. curren$y)</td>\n",
       "      <td>2018</td>\n",
       "      <td>hip hop</td>\n",
       "      <td>cross bitch like time east hannin time curreny...</td>\n",
       "      <td>hip hop</td>\n",
       "    </tr>\n",
       "    <tr>\n",
       "      <th>95</th>\n",
       "      <td>19972</td>\n",
       "      <td>jacquees</td>\n",
       "      <td>you</td>\n",
       "      <td>2018</td>\n",
       "      <td>pop</td>\n",
       "      <td>stunna music high life yeah yeah yeah morning ...</td>\n",
       "      <td>pop</td>\n",
       "    </tr>\n",
       "    <tr>\n",
       "      <th>964</th>\n",
       "      <td>82122</td>\n",
       "      <td>nappy roots</td>\n",
       "      <td>headz up</td>\n",
       "      <td>2018</td>\n",
       "      <td>hip hop</td>\n",
       "      <td>head silly head shawty head head shawty head k...</td>\n",
       "      <td>hip hop</td>\n",
       "    </tr>\n",
       "    <tr>\n",
       "      <th>75</th>\n",
       "      <td>19908</td>\n",
       "      <td>gianni &amp; kyle</td>\n",
       "      <td>do u even miss me at all?</td>\n",
       "      <td>2018</td>\n",
       "      <td>pop</td>\n",
       "      <td>yeah yeah miss post video women snapchat tryna...</td>\n",
       "      <td>pop</td>\n",
       "    </tr>\n",
       "  </tbody>\n",
       "</table>\n",
       "<p>63 rows × 7 columns</p>\n",
       "</div>"
      ],
      "text/plain": [
       "      Unnamed: 0    artist_name                        track_name  \\\n",
       "60         19881   travis scott                         can't say   \n",
       "1094       82323      too $hort                        the ghetto   \n",
       "186        20245           p!nk                      walk me home   \n",
       "986        82156        mc lyte                           i go on   \n",
       "113        20020      meek mill             24/7 (feat. ella mai)   \n",
       "...          ...            ...                               ...   \n",
       "968        82127          hazhe                             crazy   \n",
       "1028       82217      lndn drgs  hop out (remix) (feat. curren$y)   \n",
       "95         19972       jacquees                               you   \n",
       "964        82122    nappy roots                          headz up   \n",
       "75         19908  gianni & kyle         do u even miss me at all?   \n",
       "\n",
       "      release_date    genre  \\\n",
       "60            2018      pop   \n",
       "1094          2019  hip hop   \n",
       "186           2019      pop   \n",
       "986           2018  hip hop   \n",
       "113           2018      pop   \n",
       "...            ...      ...   \n",
       "968           2018  hip hop   \n",
       "1028          2018  hip hop   \n",
       "95            2018      pop   \n",
       "964           2018  hip hop   \n",
       "75            2018      pop   \n",
       "\n",
       "                                                 lyrics second_prediction  \n",
       "60    smokin hella weed alcohol shawty lick clean su...               pop  \n",
       "1094  talk bout ghetto funky funky ghetto try surviv...           hip hop  \n",
       "186   somethin roll eye take better time good thing ...               pop  \n",
       "986   flap tongue talk wrong real whack roll play ta...           hip hop  \n",
       "113   tell want yeah tell need yeah night talkin bou...               pop  \n",
       "...                                                 ...               ...  \n",
       "968   crazy haze medina lyric welcome medina stadium...               pop  \n",
       "1028  cross bitch like time east hannin time curreny...           hip hop  \n",
       "95    stunna music high life yeah yeah yeah morning ...               pop  \n",
       "964   head silly head shawty head head shawty head k...           hip hop  \n",
       "75    yeah yeah miss post video women snapchat tryna...               pop  \n",
       "\n",
       "[63 rows x 7 columns]"
      ]
     },
     "execution_count": 160,
     "metadata": {},
     "output_type": "execute_result"
    }
   ],
   "source": [
    "test_second"
   ]
  },
  {
   "cell_type": "code",
   "execution_count": 158,
   "id": "cd5bdb15",
   "metadata": {},
   "outputs": [
    {
     "name": "stdout",
     "output_type": "stream",
     "text": [
      "Training Accuracy:  0.9206349206349206\n"
     ]
    }
   ],
   "source": [
    "test_accuracy_for_second = np.mean(second_prediction == test_second['genre'])\n",
    "print(\"Training Accuracy: \", test_accuracy_for_second)"
   ]
  },
  {
   "cell_type": "markdown",
   "id": "43a8c416",
   "metadata": {},
   "source": [
    "# Conclusion and Future Improvements"
   ]
  },
  {
   "cell_type": "markdown",
   "id": "3d56225d",
   "metadata": {},
   "source": [
    "Like I predicted in the beginning of this work, the accuracy of the model that distinguishes between hiphop and blues is higher than the model that distinguishes between hiphop and blues. Throughout this project, I realized the reason why this is happening is that the words that are used in hiphop and blues are less similar than the words used in hiphop and pop. As a result, the accuracy of the model was off by 3 percent.<br> <br>Future Improvements: The models are built in a way that accounts frequencies of words. In other words, the accuracy of the model may be dependent on the chosen words. Also, when I built this model, my intention was to replace all words by its stem words, however I was not able to achieved this due to memory capacity of the notebook. By doing so, I expect to create better models."
   ]
  }
 ],
 "metadata": {
  "kernelspec": {
   "display_name": "Python 3 (ipykernel)",
   "language": "python",
   "name": "python3"
  },
  "language_info": {
   "codemirror_mode": {
    "name": "ipython",
    "version": 3
   },
   "file_extension": ".py",
   "mimetype": "text/x-python",
   "name": "python",
   "nbconvert_exporter": "python",
   "pygments_lexer": "ipython3",
   "version": "3.9.7"
  }
 },
 "nbformat": 4,
 "nbformat_minor": 5
}
